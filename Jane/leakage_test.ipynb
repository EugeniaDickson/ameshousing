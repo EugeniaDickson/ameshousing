{
 "cells": [
  {
   "cell_type": "code",
   "execution_count": 21,
   "metadata": {},
   "outputs": [],
   "source": [
    "import pandas as pd"
   ]
  },
  {
   "cell_type": "code",
   "execution_count": 26,
   "metadata": {},
   "outputs": [
    {
     "data": {
      "text/plain": [
       "(1460, 81)"
      ]
     },
     "execution_count": 26,
     "metadata": {},
     "output_type": "execute_result"
    }
   ],
   "source": [
    "df_train =  pd.read_csv('train.csv')\n",
    "df_train.shape"
   ]
  },
  {
   "cell_type": "code",
   "execution_count": 27,
   "metadata": {},
   "outputs": [
    {
     "data": {
      "text/plain": [
       "(1459, 80)"
      ]
     },
     "execution_count": 27,
     "metadata": {},
     "output_type": "execute_result"
    }
   ],
   "source": [
    "df_test =  pd.read_csv('test.csv')\n",
    "df_test.shape"
   ]
  },
  {
   "cell_type": "code",
   "execution_count": 28,
   "metadata": {},
   "outputs": [
    {
     "data": {
      "text/plain": [
       "(1456, 242)"
      ]
     },
     "execution_count": 28,
     "metadata": {},
     "output_type": "execute_result"
    }
   ],
   "source": [
    "df1 = pd.read_csv('final_train.csv')\n",
    "df1.shape"
   ]
  },
  {
   "cell_type": "code",
   "execution_count": 29,
   "metadata": {},
   "outputs": [
    {
     "data": {
      "text/plain": [
       "(1459, 241)"
      ]
     },
     "execution_count": 29,
     "metadata": {},
     "output_type": "execute_result"
    }
   ],
   "source": [
    "df = pd.read_csv('final_test.csv')\n",
    "df.shape"
   ]
  },
  {
   "cell_type": "code",
   "execution_count": 32,
   "metadata": {},
   "outputs": [],
   "source": [
    "import pandas as pd\n",
    "import numpy as np\n",
    "from sklearn.impute import SimpleImputer\n",
    "from sklearn.preprocessing import StandardScaler\n",
    "from sklearn.model_selection import train_test_split, cross_val_score\n",
    "from sklearn.linear_model import LinearRegression\n",
    "\n",
    "np.random.seed(1) # for reprodusability of results"
   ]
  },
  {
   "cell_type": "code",
   "execution_count": 33,
   "metadata": {},
   "outputs": [],
   "source": [
    "df = pd.read_csv('train.csv')"
   ]
  },
  {
   "cell_type": "code",
   "execution_count": 34,
   "metadata": {},
   "outputs": [],
   "source": [
    "# 0's for quantitative features\n",
    "df[['LotFrontage']] = df[['LotFrontage']].fillna(0)\n",
    "df[['MasVnrArea']] = df[['MasVnrArea']].fillna(0)\n",
    "# df[['BsmtUnfSF ']] = df[['BsmtUnfSF ']].fillna(0)\n",
    "df[['BsmtFullBath']] = df[['BsmtFullBath']].fillna(0)\n",
    "df[['BsmtHalfBath']] = df[['BsmtHalfBath']].fillna(0)\n",
    "df[['FullBath']] = df[['FullBath']].fillna(0)\n",
    "df[['FullBath']] = df[['FullBath']].fillna(0)\n",
    "df[['GarageCars']] = df[['GarageCars']].fillna(0)\n",
    "df[['BsmtFinSF1']] = df[['BsmtFinSF1']].fillna(0)\n",
    "df[['BsmtFinSF2']] = df[['BsmtFinSF2']].fillna(0)\n",
    "df[['BsmtUnfSF']] = df[['BsmtUnfSF']].fillna(0)\n",
    "df[['TotalBsmtSF']] = df[['TotalBsmtSF']].fillna(0)\n",
    "df[['GarageArea']] = df[['GarageArea']].fillna(0)\n",
    "\n",
    "# Most frequent for categorical\n",
    "imp = SimpleImputer(missing_values=np.nan, strategy='most_frequent')\n",
    "imp.fit(df[['Electrical']])\n",
    "df[['Electrical']] = pd.DataFrame(imp.transform(df[['Electrical']]), columns = ['Electrical'])\n",
    "imp.fit(df[['Functional']])\n",
    "df[['Functional']] = pd.DataFrame(imp.transform(df[['Functional']]), columns = ['Functional'])\n",
    "imp.fit(df[['KitchenQual']])\n",
    "df[['KitchenQual']] = pd.DataFrame(imp.transform(df[['KitchenQual']]), columns = ['KitchenQual'])\n",
    "imp.fit(df[['MSZoning']])\n",
    "df[['MSZoning']] = pd.DataFrame(imp.transform(df[['MSZoning']]), columns = ['MSZoning'])\n",
    "imp.fit(df[['Exterior1st']])\n",
    "df[['Exterior1st']] = pd.DataFrame(imp.transform(df[['Exterior1st']]), columns = ['Exterior1st'])\n",
    "imp.fit(df[['Exterior2nd']])\n",
    "df[['Exterior2nd']] = pd.DataFrame(imp.transform(df[['Exterior2nd']]), columns = ['Exterior2nd'])\n",
    "imp.fit(df[['Utilities']])\n",
    "df[['Utilities']] = pd.DataFrame(imp.transform(df[['Utilities']]), columns = ['Utilities'])\n",
    "imp.fit(df[['SaleType']])\n",
    "df[['SaleType']] = pd.DataFrame(imp.transform(df[['SaleType']]), columns = ['SaleType'])\n",
    "\n",
    "# None for MasVnrType since it might mean there's no mass veneer:\n",
    "df[['MasVnrType']] = df[['MasVnrType']].fillna('None')\n",
    "\n",
    "# Ordinal\n",
    "df[['Alley']] = df[['Alley']].fillna('None')\n",
    "df[['BsmtQual']] = df[['BsmtQual']].fillna('None')\n",
    "df[['BsmtCond']] = df[['BsmtCond']].fillna('None')\n",
    "df[['BsmtExposure']] = df[['BsmtExposure']].fillna('None')\n",
    "df[['BsmtFinType1']] = df[['BsmtFinType1']].fillna('None')\n",
    "df[['BsmtFinType2']] = df[['BsmtFinType2']].fillna('None')\n",
    "df[['FireplaceQu']] = df[['FireplaceQu']].fillna('None')\n",
    "df[['GarageType']] = df[['GarageType']].fillna('None')\n",
    "df[['GarageFinish']] = df[['GarageFinish']].fillna('None')\n",
    "df[['GarageQual']] = df[['GarageQual']].fillna('None')\n",
    "df[['GarageCond']] = df[['GarageCond']].fillna('None')\n",
    "df[['PoolQC']] = df[['PoolQC']].fillna('None')\n",
    "df[['Fence']] = df[['Fence']].fillna('None')\n",
    "df[['MiscFeature']] = df[['MiscFeature']].fillna('None')\n",
    "\n",
    "# GarageYrBlt NA's replaced with year the house built\n",
    "df.loc[df['GarageYrBlt'].isnull() == True, 'GarageYrBlt'] = df.loc[df['GarageYrBlt'].isnull() == True, 'YearBuilt']"
   ]
  },
  {
   "cell_type": "code",
   "execution_count": 35,
   "metadata": {},
   "outputs": [],
   "source": [
    "quality_scale = {'Ex': 5, 'Gd': 4, 'TA': 3, 'Fa': 2, 'Po': 1, 'None': 0}\n",
    "basement_scale = {'GLQ': 6, 'ALQ': 5, 'BLQ': 4, 'Rec': 3, 'LwQ': 2, 'Unf': 1, 'None': 0}\n",
    "\n",
    "df = df.replace({'HeatingQC': quality_scale,\n",
    "                 'KitchenQual': quality_scale,\n",
    "                 'ExterQual': quality_scale,\n",
    "                 'ExterCond': quality_scale,\n",
    "                 'BsmtQual': quality_scale,\n",
    "                 'BsmtCond': quality_scale,\n",
    "                 'FireplaceQu': quality_scale,\n",
    "                 'GarageQual': quality_scale,\n",
    "                 'GarageCond': quality_scale,\n",
    "                 'BsmtFinType1': basement_scale,\n",
    "                 'BsmtFinType2': basement_scale,\n",
    "                 'PoolQC': quality_scale,\n",
    "                 'BsmtExposure': {'None': 0, 'No': 1, 'Mn': 2, 'Av': 3, 'Gd': 4},\n",
    "                 'GarageFinish:': {'None': 0, 'Unf': 1, 'RFn': 2, 'Fin': 3},\n",
    "                 'Fence': {'None': 0, 'MnWw': 1, 'GdWo': 2, 'MnPrv': 3, 'GdPrv': 4},\n",
    "                 #Converting numerical to categorical\n",
    "                 'MSSubClass': {20: 'SC20', 30: 'SC30', 40: 'SC40', 45: 'SC45', 50: 'SC50', 60: 'SC60', 70: 'SC70', \n",
    "                                75: 'SC75', 80: 'SC80', 85: 'SC85', 90: 'SC90', 120: 'SC120', 150: 'SC150', 160: 'SC160',\n",
    "                                180: 'SC180', 190: 'SC190'},\n",
    "                 'PavedDrive': {'N': 0, 'Y': 2, 'P': 1},\n",
    "                 'Functional': {'Sal': 1, 'Sev': 2, 'Maj2': 3, 'Maj1': 4, \n",
    "                                'Mod': 5, 'Min2': 6, 'Min1': 7, 'Typ': 8},\n",
    "                 'MoSold': {1: 'Jan', 2: 'Feb', 3: 'Mar', 4: 'Apr', 5: 'May', 6: 'Jun', \n",
    "                            7: 'Jul', 8: 'Aug', 9: 'Sep', 10: 'Oct', 11: 'Nov', 12: 'Dec'}          \n",
    "})\n",
    "\n",
    "# Rename one 'MSZoning' value\n",
    "df.loc[(df['MSZoning'] == 'C (all)'), 'MSZoning'] = 'C'\n",
    "\n",
    "# Convert CentralAit to binary\n",
    "df['CentralAir'] = (df['CentralAir'] != 'N').astype(int)"
   ]
  },
  {
   "cell_type": "code",
   "execution_count": 36,
   "metadata": {},
   "outputs": [],
   "source": [
    "# Total porch area\n",
    "df['Total.Porch']= df['OpenPorchSF'] + df['EnclosedPorch'] + df['ScreenPorch']\n",
    "\n",
    "# Total floor area\n",
    "df['TotalFlSF'] = df['1stFlrSF'] + df['2ndFlrSF'] + df['LowQualFinSF']\n",
    "\n",
    "# Total rooms\n",
    "df['TotRmsAbvGrd'] = df['TotRmsAbvGrd'] - df['BedroomAbvGr']\n",
    "\n",
    "# Total baths\n",
    "df['Total.HalfBath'] = df['BsmtFullBath'] + df['FullBath']\n",
    "df['Total.FullBath'] = df['BsmtHalfBath'] + df['HalfBath']\n",
    "\n",
    "# Subtracting num of bedrooms from total number of rooms as bedrooms are represented in a separate feature\n",
    "df['Total.RmsAbvGrd'] = df['TotRmsAbvGrd'] - df['BedroomAbvGr']\n",
    "\n",
    "# Combining condition parameters\n",
    "df['OverallScore'] = df['OverallQual'] * df['OverallCond']\n",
    "df['ExterScore'] = df['ExterQual'] * df['ExterCond']\n",
    "df['BsmtScore'] = df['BsmtQual'] * df['BsmtCond']\n",
    "df['KitchenScore'] = df['KitchenAbvGr'] * df['KitchenQual']\n",
    "df['GarageScore'] = df['GarageArea'] * df['GarageQual']"
   ]
  },
  {
   "cell_type": "code",
   "execution_count": 37,
   "metadata": {},
   "outputs": [],
   "source": [
    "categorical_features = df.select_dtypes(include = [\"object\"]).columns\n",
    "numerical_features = df.select_dtypes(exclude = [\"object\"]).columns"
   ]
  },
  {
   "cell_type": "code",
   "execution_count": 38,
   "metadata": {},
   "outputs": [
    {
     "data": {
      "text/plain": [
       "Index(['MSSubClass', 'MSZoning', 'Street', 'Alley', 'LotShape', 'LandContour',\n",
       "       'Utilities', 'LotConfig', 'LandSlope', 'Neighborhood', 'Condition1',\n",
       "       'Condition2', 'BldgType', 'HouseStyle', 'RoofStyle', 'RoofMatl',\n",
       "       'Exterior1st', 'Exterior2nd', 'MasVnrType', 'Foundation', 'Heating',\n",
       "       'Electrical', 'GarageType', 'GarageFinish', 'MiscFeature', 'MoSold',\n",
       "       'SaleType', 'SaleCondition'],\n",
       "      dtype='object')"
      ]
     },
     "execution_count": 38,
     "metadata": {},
     "output_type": "execute_result"
    }
   ],
   "source": [
    "categorical_features"
   ]
  },
  {
   "cell_type": "code",
   "execution_count": 39,
   "metadata": {},
   "outputs": [
    {
     "data": {
      "text/plain": [
       "<matplotlib.axes._subplots.AxesSubplot at 0x1b025e78160>"
      ]
     },
     "execution_count": 39,
     "metadata": {},
     "output_type": "execute_result"
    },
    {
     "data": {
      "image/png": "[encoded data removed]",
      "text/plain": [
       "<Figure size 432x288 with 1 Axes>"
      ]
     },
     "metadata": {
      "needs_background": "light"
     },
     "output_type": "display_data"
    }
   ],
   "source": [
    "df['MSSubClass'].value_counts().plot.bar()"
   ]
  }
 ],
 "metadata": {
  "kernelspec": {
   "display_name": "Python 3",
   "language": "python",
   "name": "python3"
  },
  "language_info": {
   "codemirror_mode": {
    "name": "ipython",
    "version": 3
   },
   "file_extension": ".py",
   "mimetype": "text/x-python",
   "name": "python",
   "nbconvert_exporter": "python",
   "pygments_lexer": "ipython3",
   "version": "3.8.3"
  }
 },
 "nbformat": 4,
 "nbformat_minor": 4
}
