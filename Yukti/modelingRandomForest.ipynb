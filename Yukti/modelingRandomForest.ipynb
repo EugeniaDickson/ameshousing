{
 "cells": [
  {
   "cell_type": "code",
   "execution_count": 1,
   "id": "mobile-sense",
   "metadata": {},
   "outputs": [],
   "source": [
    "import numpy as np\n",
    "import pandas as pd\n",
    "from sklearn.model_selection import train_test_split\n",
    "from sklearn.ensemble import RandomForestRegressor\n",
    "from sklearn.metrics import r2_score,mean_squared_error\n",
    "import seaborn as sns"
   ]
  },
  {
   "cell_type": "code",
   "execution_count": 2,
   "id": "latest-translator",
   "metadata": {},
   "outputs": [],
   "source": [
    "df = pd.read_csv('final_data.csv')\n",
    "df = df.drop('Unnamed: 0', axis = 1) # remove extra column"
   ]
  },
  {
   "cell_type": "code",
   "execution_count": 3,
   "id": "small-trail",
   "metadata": {},
   "outputs": [],
   "source": [
    "response_var = df[['SalePrice']] # separate the y from the features\n",
    "feats = df.drop('SalePrice', axis = 1) # features"
   ]
  },
  {
   "cell_type": "code",
   "execution_count": 4,
   "id": "adjustable-biodiversity",
   "metadata": {},
   "outputs": [],
   "source": [
    "np.random.seed(1) # for reprodusability of results\n",
    "Xtrain, Xtest, ytrain, ytest = train_test_split(feats, response_var)"
   ]
  },
  {
   "cell_type": "code",
   "execution_count": 12,
   "id": "front-boating",
   "metadata": {},
   "outputs": [
    {
     "name": "stderr",
     "output_type": "stream",
     "text": [
      "<ipython-input-12-3498f94b6ef8>:2: DataConversionWarning: A column-vector y was passed when a 1d array was expected. Please change the shape of y to (n_samples,), for example using ravel().\n",
      "  regr_1.fit(Xtrain, ytrain)\n"
     ]
    },
    {
     "data": {
      "text/plain": [
       "RandomForestRegressor(n_estimators=200)"
      ]
     },
     "execution_count": 12,
     "metadata": {},
     "output_type": "execute_result"
    }
   ],
   "source": [
    "regr_1 = RandomForestRegressor()\n",
    "regr_1.fit(Xtrain, ytrain)"
   ]
  },
  {
   "cell_type": "code",
   "execution_count": 56,
   "id": "facial-verification",
   "metadata": {},
   "outputs": [],
   "source": [
    "from sklearn.model_selection import GridSearchCV\n",
    "\n",
    "param_grid = {\n",
    "    'bootstrap': [True],\n",
    "    'max_depth': [80, 90, 100, 110],\n",
    "    'max_features': [40,50,60,70, 80,88],\n",
    "    'min_samples_leaf': [3, 4, 5],\n",
    "    'min_samples_split': [8, 10, 12],\n",
    "    'n_estimators': [100, 200, 300, 1000]\n",
    "}\n",
    "\n",
    "grid_search = GridSearchCV(estimator = regr_1, param_grid = param_grid, \n",
    "                          cv = 3, n_jobs = -1, verbose = 2)"
   ]
  },
  {
   "cell_type": "code",
   "execution_count": 57,
   "id": "significant-response",
   "metadata": {
    "scrolled": true
   },
   "outputs": [
    {
     "name": "stdout",
     "output_type": "stream",
     "text": [
      "Fitting 3 folds for each of 864 candidates, totalling 2592 fits\n"
     ]
    },
    {
     "name": "stderr",
     "output_type": "stream",
     "text": [
      "[Parallel(n_jobs=-1)]: Using backend LokyBackend with 8 concurrent workers.\n",
      "[Parallel(n_jobs=-1)]: Done  25 tasks      | elapsed:    4.5s\n",
      "[Parallel(n_jobs=-1)]: Done 146 tasks      | elapsed:   35.6s\n",
      "[Parallel(n_jobs=-1)]: Done 349 tasks      | elapsed:  1.6min\n",
      "[Parallel(n_jobs=-1)]: Done 632 tasks      | elapsed:  3.3min\n",
      "[Parallel(n_jobs=-1)]: Done 997 tasks      | elapsed:  5.3min\n",
      "[Parallel(n_jobs=-1)]: Done 1442 tasks      | elapsed:  8.0min\n",
      "[Parallel(n_jobs=-1)]: Done 1969 tasks      | elapsed: 11.3min\n",
      "[Parallel(n_jobs=-1)]: Done 2576 tasks      | elapsed: 15.2min\n",
      "[Parallel(n_jobs=-1)]: Done 2592 out of 2592 | elapsed: 15.4min finished\n",
      "C:\\Users\\ykath\\anaconda3\\lib\\site-packages\\sklearn\\model_selection\\_search.py:765: DataConversionWarning: A column-vector y was passed when a 1d array was expected. Please change the shape of y to (n_samples,), for example using ravel().\n",
      "  self.best_estimator_.fit(X, y, **fit_params)\n"
     ]
    },
    {
     "data": {
      "text/plain": [
       "{'bootstrap': True,\n",
       " 'max_depth': 80,\n",
       " 'max_features': 40,\n",
       " 'min_samples_leaf': 3,\n",
       " 'min_samples_split': 8,\n",
       " 'n_estimators': 1000}"
      ]
     },
     "execution_count": 57,
     "metadata": {},
     "output_type": "execute_result"
    }
   ],
   "source": [
    "grid_search.fit(Xtrain, ytrain)\n",
    "best_grid = grid_search.best_estimator_\n",
    "best_grid\n",
    "\n",
    "grid_search.best_params_\n",
    "#grid_accuracy = evaluate(best_grid, Xtrain, ytrain)\n",
    "#print('Improvement of {:0.2f}%.'.format( 100 * (grid_accuracy - base_accuracy) / base_accuracy))"
   ]
  },
  {
   "cell_type": "code",
   "execution_count": 58,
   "id": "formal-quilt",
   "metadata": {},
   "outputs": [
    {
     "data": {
      "text/plain": [
       "0.8543797985826975"
      ]
     },
     "execution_count": 58,
     "metadata": {},
     "output_type": "execute_result"
    }
   ],
   "source": [
    "grid_search.best_score_"
   ]
  },
  {
   "cell_type": "code",
   "execution_count": 32,
   "id": "apart-caribbean",
   "metadata": {},
   "outputs": [
    {
     "data": {
      "text/plain": [
       "0.18879214491357066"
      ]
     },
     "execution_count": 32,
     "metadata": {},
     "output_type": "execute_result"
    }
   ],
   "source": [
    "y_pred2 = grid_search.predict(Xtest)\n",
    "mse2 = mean_squared_error(ytest,y_pred2)\n",
    "rmse2 = np.sqrt(mse2)\n",
    "rmse2"
   ]
  },
  {
   "cell_type": "code",
   "execution_count": 13,
   "id": "upper-image",
   "metadata": {},
   "outputs": [],
   "source": [
    "y_pred1 = regr_1.predict(Xtest)\n",
    "#y_pred1"
   ]
  },
  {
   "cell_type": "code",
   "execution_count": 14,
   "id": "instrumental-reality",
   "metadata": {},
   "outputs": [],
   "source": [
    "mse1 = mean_squared_error(ytest,y_pred1)"
   ]
  },
  {
   "cell_type": "code",
   "execution_count": 15,
   "id": "thirty-village",
   "metadata": {},
   "outputs": [],
   "source": [
    "rmse1 = np.sqrt(mse1)"
   ]
  },
  {
   "cell_type": "code",
   "execution_count": 16,
   "id": "rotary-agreement",
   "metadata": {},
   "outputs": [
    {
     "data": {
      "text/plain": [
       "0.1448257042665818"
      ]
     },
     "execution_count": 16,
     "metadata": {},
     "output_type": "execute_result"
    }
   ],
   "source": [
    "rmse1"
   ]
  },
  {
   "cell_type": "code",
   "execution_count": 18,
   "id": "continental-output",
   "metadata": {},
   "outputs": [
    {
     "data": {
      "text/plain": [
       "0.8748536900082253"
      ]
     },
     "execution_count": 18,
     "metadata": {},
     "output_type": "execute_result"
    }
   ],
   "source": [
    "regr_1.score(Xtest, ytest)"
   ]
  },
  {
   "cell_type": "code",
   "execution_count": 60,
   "id": "several-bonus",
   "metadata": {},
   "outputs": [
    {
     "name": "stderr",
     "output_type": "stream",
     "text": [
      "C:\\Users\\ykath\\anaconda3\\lib\\site-packages\\sklearn\\model_selection\\_search.py:765: DataConversionWarning: A column-vector y was passed when a 1d array was expected. Please change the shape of y to (n_samples,), for example using ravel().\n",
      "  self.best_estimator_.fit(X, y, **fit_params)\n"
     ]
    },
    {
     "name": "stdout",
     "output_type": "stream",
     "text": [
      "Wall time: 2min 25s\n"
     ]
    },
    {
     "data": {
      "text/plain": [
       "GridSearchCV(cv=5,\n",
       "             estimator=RandomForestRegressor(n_estimators=200,\n",
       "                                             random_state=108),\n",
       "             n_jobs=-1,\n",
       "             param_grid=[{'min_samples_leaf': range(1, 10),\n",
       "                          'min_samples_split': array([ 2,  4,  6,  8, 10, 12, 14, 16, 18, 20, 22, 24, 26, 28, 30])}])"
      ]
     },
     "execution_count": 60,
     "metadata": {},
     "output_type": "execute_result"
    }
   ],
   "source": [
    "from sklearn.model_selection import GridSearchCV\n",
    "grid_para_tree = [{\n",
    "    \"min_samples_leaf\": range(1, 10),\n",
    "    \"min_samples_split\": np.linspace(start=2, stop=30, num=15, dtype=int)\n",
    "}]\n",
    "regr_1.set_params(random_state=108)\n",
    "grid_search_tree = GridSearchCV(regr_1, grid_para_tree, cv=5, n_jobs=-1)\n",
    "%time grid_search_tree.fit(Xtrain, ytrain)"
   ]
  },
  {
   "cell_type": "code",
   "execution_count": 61,
   "id": "polish-uniform",
   "metadata": {},
   "outputs": [
    {
     "data": {
      "text/plain": [
       "0.8484413335101901"
      ]
     },
     "execution_count": 61,
     "metadata": {},
     "output_type": "execute_result"
    }
   ],
   "source": [
    "grid_search_tree.best_score_"
   ]
  },
  {
   "cell_type": "code",
   "execution_count": 62,
   "id": "racial-research",
   "metadata": {},
   "outputs": [],
   "source": [
    "df2 = pd.read_csv('C:/Users/ykath/Downloads/final_train.csv')\n",
    "df2 = df2.drop('Unnamed: 0', axis = 1) # remove extra column"
   ]
  },
  {
   "cell_type": "code",
   "execution_count": 65,
   "id": "worse-blackjack",
   "metadata": {},
   "outputs": [
    {
     "data": {
      "text/html": [
       "<div>\n",
       "<style scoped>\n",
       "    .dataframe tbody tr th:only-of-type {\n",
       "        vertical-align: middle;\n",
       "    }\n",
       "\n",
       "    .dataframe tbody tr th {\n",
       "        vertical-align: top;\n",
       "    }\n",
       "\n",
       "    .dataframe thead th {\n",
       "        text-align: right;\n",
       "    }\n",
       "</style>\n",
       "<table border=\"1\" class=\"dataframe\">\n",
       "  <thead>\n",
       "    <tr style=\"text-align: right;\">\n",
       "      <th></th>\n",
       "      <th>LotFrontage</th>\n",
       "      <th>LotArea</th>\n",
       "      <th>OverallQual</th>\n",
       "      <th>OverallCond</th>\n",
       "      <th>YearBuilt</th>\n",
       "      <th>YearRemodAdd</th>\n",
       "      <th>MasVnrArea</th>\n",
       "      <th>ExterQual</th>\n",
       "      <th>ExterCond</th>\n",
       "      <th>BsmtQual</th>\n",
       "      <th>...</th>\n",
       "      <th>SaleType_ConLI</th>\n",
       "      <th>SaleType_ConLw</th>\n",
       "      <th>SaleType_New</th>\n",
       "      <th>SaleType_Oth</th>\n",
       "      <th>SaleType_WD</th>\n",
       "      <th>SaleCondition_AdjLand</th>\n",
       "      <th>SaleCondition_Alloca</th>\n",
       "      <th>SaleCondition_Family</th>\n",
       "      <th>SaleCondition_Normal</th>\n",
       "      <th>SaleCondition_Partial</th>\n",
       "    </tr>\n",
       "  </thead>\n",
       "  <tbody>\n",
       "    <tr>\n",
       "      <th>0</th>\n",
       "      <td>4.394449</td>\n",
       "      <td>9.360741</td>\n",
       "      <td>5</td>\n",
       "      <td>6</td>\n",
       "      <td>1961</td>\n",
       "      <td>1961</td>\n",
       "      <td>0.000000</td>\n",
       "      <td>3</td>\n",
       "      <td>3</td>\n",
       "      <td>3</td>\n",
       "      <td>...</td>\n",
       "      <td>0</td>\n",
       "      <td>0</td>\n",
       "      <td>0</td>\n",
       "      <td>0</td>\n",
       "      <td>1</td>\n",
       "      <td>0</td>\n",
       "      <td>0</td>\n",
       "      <td>0</td>\n",
       "      <td>1</td>\n",
       "      <td>0</td>\n",
       "    </tr>\n",
       "    <tr>\n",
       "      <th>1</th>\n",
       "      <td>4.406719</td>\n",
       "      <td>9.565775</td>\n",
       "      <td>6</td>\n",
       "      <td>6</td>\n",
       "      <td>1958</td>\n",
       "      <td>1958</td>\n",
       "      <td>4.691348</td>\n",
       "      <td>3</td>\n",
       "      <td>3</td>\n",
       "      <td>3</td>\n",
       "      <td>...</td>\n",
       "      <td>0</td>\n",
       "      <td>0</td>\n",
       "      <td>0</td>\n",
       "      <td>0</td>\n",
       "      <td>1</td>\n",
       "      <td>0</td>\n",
       "      <td>0</td>\n",
       "      <td>0</td>\n",
       "      <td>1</td>\n",
       "      <td>0</td>\n",
       "    </tr>\n",
       "    <tr>\n",
       "      <th>2</th>\n",
       "      <td>4.317488</td>\n",
       "      <td>9.534668</td>\n",
       "      <td>5</td>\n",
       "      <td>5</td>\n",
       "      <td>1997</td>\n",
       "      <td>1998</td>\n",
       "      <td>0.000000</td>\n",
       "      <td>3</td>\n",
       "      <td>3</td>\n",
       "      <td>4</td>\n",
       "      <td>...</td>\n",
       "      <td>0</td>\n",
       "      <td>0</td>\n",
       "      <td>0</td>\n",
       "      <td>0</td>\n",
       "      <td>1</td>\n",
       "      <td>0</td>\n",
       "      <td>0</td>\n",
       "      <td>0</td>\n",
       "      <td>1</td>\n",
       "      <td>0</td>\n",
       "    </tr>\n",
       "    <tr>\n",
       "      <th>3</th>\n",
       "      <td>4.369448</td>\n",
       "      <td>9.208238</td>\n",
       "      <td>6</td>\n",
       "      <td>6</td>\n",
       "      <td>1998</td>\n",
       "      <td>1998</td>\n",
       "      <td>3.044522</td>\n",
       "      <td>3</td>\n",
       "      <td>3</td>\n",
       "      <td>3</td>\n",
       "      <td>...</td>\n",
       "      <td>0</td>\n",
       "      <td>0</td>\n",
       "      <td>0</td>\n",
       "      <td>0</td>\n",
       "      <td>1</td>\n",
       "      <td>0</td>\n",
       "      <td>0</td>\n",
       "      <td>0</td>\n",
       "      <td>1</td>\n",
       "      <td>0</td>\n",
       "    </tr>\n",
       "    <tr>\n",
       "      <th>4</th>\n",
       "      <td>3.784190</td>\n",
       "      <td>8.518392</td>\n",
       "      <td>8</td>\n",
       "      <td>5</td>\n",
       "      <td>1992</td>\n",
       "      <td>1992</td>\n",
       "      <td>0.000000</td>\n",
       "      <td>4</td>\n",
       "      <td>3</td>\n",
       "      <td>4</td>\n",
       "      <td>...</td>\n",
       "      <td>0</td>\n",
       "      <td>0</td>\n",
       "      <td>0</td>\n",
       "      <td>0</td>\n",
       "      <td>1</td>\n",
       "      <td>0</td>\n",
       "      <td>0</td>\n",
       "      <td>0</td>\n",
       "      <td>1</td>\n",
       "      <td>0</td>\n",
       "    </tr>\n",
       "    <tr>\n",
       "      <th>...</th>\n",
       "      <td>...</td>\n",
       "      <td>...</td>\n",
       "      <td>...</td>\n",
       "      <td>...</td>\n",
       "      <td>...</td>\n",
       "      <td>...</td>\n",
       "      <td>...</td>\n",
       "      <td>...</td>\n",
       "      <td>...</td>\n",
       "      <td>...</td>\n",
       "      <td>...</td>\n",
       "      <td>...</td>\n",
       "      <td>...</td>\n",
       "      <td>...</td>\n",
       "      <td>...</td>\n",
       "      <td>...</td>\n",
       "      <td>...</td>\n",
       "      <td>...</td>\n",
       "      <td>...</td>\n",
       "      <td>...</td>\n",
       "      <td>...</td>\n",
       "    </tr>\n",
       "    <tr>\n",
       "      <th>1453</th>\n",
       "      <td>3.091042</td>\n",
       "      <td>7.568896</td>\n",
       "      <td>4</td>\n",
       "      <td>7</td>\n",
       "      <td>1970</td>\n",
       "      <td>1970</td>\n",
       "      <td>0.000000</td>\n",
       "      <td>3</td>\n",
       "      <td>3</td>\n",
       "      <td>3</td>\n",
       "      <td>...</td>\n",
       "      <td>0</td>\n",
       "      <td>0</td>\n",
       "      <td>0</td>\n",
       "      <td>0</td>\n",
       "      <td>1</td>\n",
       "      <td>0</td>\n",
       "      <td>0</td>\n",
       "      <td>0</td>\n",
       "      <td>1</td>\n",
       "      <td>0</td>\n",
       "    </tr>\n",
       "    <tr>\n",
       "      <th>1454</th>\n",
       "      <td>3.091042</td>\n",
       "      <td>7.546974</td>\n",
       "      <td>4</td>\n",
       "      <td>5</td>\n",
       "      <td>1970</td>\n",
       "      <td>1970</td>\n",
       "      <td>0.000000</td>\n",
       "      <td>3</td>\n",
       "      <td>3</td>\n",
       "      <td>3</td>\n",
       "      <td>...</td>\n",
       "      <td>0</td>\n",
       "      <td>0</td>\n",
       "      <td>0</td>\n",
       "      <td>0</td>\n",
       "      <td>1</td>\n",
       "      <td>0</td>\n",
       "      <td>0</td>\n",
       "      <td>0</td>\n",
       "      <td>0</td>\n",
       "      <td>0</td>\n",
       "    </tr>\n",
       "    <tr>\n",
       "      <th>1455</th>\n",
       "      <td>5.081404</td>\n",
       "      <td>9.903538</td>\n",
       "      <td>5</td>\n",
       "      <td>7</td>\n",
       "      <td>1960</td>\n",
       "      <td>1996</td>\n",
       "      <td>0.000000</td>\n",
       "      <td>3</td>\n",
       "      <td>3</td>\n",
       "      <td>3</td>\n",
       "      <td>...</td>\n",
       "      <td>0</td>\n",
       "      <td>0</td>\n",
       "      <td>0</td>\n",
       "      <td>0</td>\n",
       "      <td>1</td>\n",
       "      <td>0</td>\n",
       "      <td>0</td>\n",
       "      <td>0</td>\n",
       "      <td>0</td>\n",
       "      <td>0</td>\n",
       "    </tr>\n",
       "    <tr>\n",
       "      <th>1456</th>\n",
       "      <td>4.143135</td>\n",
       "      <td>9.253591</td>\n",
       "      <td>5</td>\n",
       "      <td>5</td>\n",
       "      <td>1992</td>\n",
       "      <td>1992</td>\n",
       "      <td>0.000000</td>\n",
       "      <td>3</td>\n",
       "      <td>3</td>\n",
       "      <td>4</td>\n",
       "      <td>...</td>\n",
       "      <td>0</td>\n",
       "      <td>0</td>\n",
       "      <td>0</td>\n",
       "      <td>0</td>\n",
       "      <td>1</td>\n",
       "      <td>0</td>\n",
       "      <td>0</td>\n",
       "      <td>0</td>\n",
       "      <td>1</td>\n",
       "      <td>0</td>\n",
       "    </tr>\n",
       "    <tr>\n",
       "      <th>1457</th>\n",
       "      <td>4.317488</td>\n",
       "      <td>9.172431</td>\n",
       "      <td>7</td>\n",
       "      <td>5</td>\n",
       "      <td>1993</td>\n",
       "      <td>1994</td>\n",
       "      <td>4.553877</td>\n",
       "      <td>3</td>\n",
       "      <td>3</td>\n",
       "      <td>4</td>\n",
       "      <td>...</td>\n",
       "      <td>0</td>\n",
       "      <td>0</td>\n",
       "      <td>0</td>\n",
       "      <td>0</td>\n",
       "      <td>1</td>\n",
       "      <td>0</td>\n",
       "      <td>0</td>\n",
       "      <td>0</td>\n",
       "      <td>1</td>\n",
       "      <td>0</td>\n",
       "    </tr>\n",
       "  </tbody>\n",
       "</table>\n",
       "<p>1458 rows × 240 columns</p>\n",
       "</div>"
      ],
      "text/plain": [
       "      LotFrontage   LotArea  OverallQual  OverallCond  YearBuilt  \\\n",
       "0        4.394449  9.360741            5            6       1961   \n",
       "1        4.406719  9.565775            6            6       1958   \n",
       "2        4.317488  9.534668            5            5       1997   \n",
       "3        4.369448  9.208238            6            6       1998   \n",
       "4        3.784190  8.518392            8            5       1992   \n",
       "...           ...       ...          ...          ...        ...   \n",
       "1453     3.091042  7.568896            4            7       1970   \n",
       "1454     3.091042  7.546974            4            5       1970   \n",
       "1455     5.081404  9.903538            5            7       1960   \n",
       "1456     4.143135  9.253591            5            5       1992   \n",
       "1457     4.317488  9.172431            7            5       1993   \n",
       "\n",
       "      YearRemodAdd  MasVnrArea  ExterQual  ExterCond  BsmtQual  ...  \\\n",
       "0             1961    0.000000          3          3         3  ...   \n",
       "1             1958    4.691348          3          3         3  ...   \n",
       "2             1998    0.000000          3          3         4  ...   \n",
       "3             1998    3.044522          3          3         3  ...   \n",
       "4             1992    0.000000          4          3         4  ...   \n",
       "...            ...         ...        ...        ...       ...  ...   \n",
       "1453          1970    0.000000          3          3         3  ...   \n",
       "1454          1970    0.000000          3          3         3  ...   \n",
       "1455          1996    0.000000          3          3         3  ...   \n",
       "1456          1992    0.000000          3          3         4  ...   \n",
       "1457          1994    4.553877          3          3         4  ...   \n",
       "\n",
       "      SaleType_ConLI  SaleType_ConLw  SaleType_New  SaleType_Oth  SaleType_WD  \\\n",
       "0                  0               0             0             0            1   \n",
       "1                  0               0             0             0            1   \n",
       "2                  0               0             0             0            1   \n",
       "3                  0               0             0             0            1   \n",
       "4                  0               0             0             0            1   \n",
       "...              ...             ...           ...           ...          ...   \n",
       "1453               0               0             0             0            1   \n",
       "1454               0               0             0             0            1   \n",
       "1455               0               0             0             0            1   \n",
       "1456               0               0             0             0            1   \n",
       "1457               0               0             0             0            1   \n",
       "\n",
       "      SaleCondition_AdjLand  SaleCondition_Alloca  SaleCondition_Family  \\\n",
       "0                         0                     0                     0   \n",
       "1                         0                     0                     0   \n",
       "2                         0                     0                     0   \n",
       "3                         0                     0                     0   \n",
       "4                         0                     0                     0   \n",
       "...                     ...                   ...                   ...   \n",
       "1453                      0                     0                     0   \n",
       "1454                      0                     0                     0   \n",
       "1455                      0                     0                     0   \n",
       "1456                      0                     0                     0   \n",
       "1457                      0                     0                     0   \n",
       "\n",
       "      SaleCondition_Normal  SaleCondition_Partial  \n",
       "0                        1                      0  \n",
       "1                        1                      0  \n",
       "2                        1                      0  \n",
       "3                        1                      0  \n",
       "4                        1                      0  \n",
       "...                    ...                    ...  \n",
       "1453                     1                      0  \n",
       "1454                     0                      0  \n",
       "1455                     0                      0  \n",
       "1456                     1                      0  \n",
       "1457                     1                      0  \n",
       "\n",
       "[1458 rows x 240 columns]"
      ]
     },
     "execution_count": 65,
     "metadata": {},
     "output_type": "execute_result"
    }
   ],
   "source": [
    "df3 = pd.read_csv('C:/Users/ykath/Downloads/final_test.csv')\n",
    "df3 = df3.drop('Unnamed: 0', axis = 1) # remove extra column"
   ]
  },
  {
   "cell_type": "code",
   "execution_count": 66,
   "id": "rough-artwork",
   "metadata": {},
   "outputs": [],
   "source": [
    "response_var2 = df2[['SalePrice']] # separate the y from the features\n",
    "feats2 = df2.drop('SalePrice', axis = 1) # features"
   ]
  },
  {
   "cell_type": "code",
   "execution_count": 68,
   "id": "specific-processing",
   "metadata": {},
   "outputs": [],
   "source": [
    "#response_var3 = df3[['SalePrice']] # separate the y from the features\n",
    "feats3 = df3 # features"
   ]
  },
  {
   "cell_type": "code",
   "execution_count": 69,
   "id": "imposed-burning",
   "metadata": {},
   "outputs": [
    {
     "name": "stderr",
     "output_type": "stream",
     "text": [
      "<ipython-input-69-f941ecb5d627>:2: DataConversionWarning: A column-vector y was passed when a 1d array was expected. Please change the shape of y to (n_samples,), for example using ravel().\n",
      "  regr_2.fit(feats2, response_var2)\n"
     ]
    },
    {
     "data": {
      "text/plain": [
       "RandomForestRegressor()"
      ]
     },
     "execution_count": 69,
     "metadata": {},
     "output_type": "execute_result"
    }
   ],
   "source": [
    "regr_2 = RandomForestRegressor()\n",
    "regr_2.fit(feats2, response_var2)"
   ]
  },
  {
   "cell_type": "code",
   "execution_count": 71,
   "id": "fixed-offer",
   "metadata": {},
   "outputs": [],
   "source": [
    "np.random.seed(1) # for reprodusability of results\n",
    "Xtrain2, Xtest2, ytrain2, ytest2 = train_test_split(feats2, response_var2)"
   ]
  },
  {
   "cell_type": "code",
   "execution_count": 72,
   "id": "gross-packaging",
   "metadata": {},
   "outputs": [
    {
     "name": "stderr",
     "output_type": "stream",
     "text": [
      "<ipython-input-72-6096c7f7141d>:2: DataConversionWarning: A column-vector y was passed when a 1d array was expected. Please change the shape of y to (n_samples,), for example using ravel().\n",
      "  regr_4.fit(Xtrain2, ytrain2)\n"
     ]
    },
    {
     "data": {
      "text/plain": [
       "RandomForestRegressor()"
      ]
     },
     "execution_count": 72,
     "metadata": {},
     "output_type": "execute_result"
    }
   ],
   "source": [
    "regr_4 = RandomForestRegressor()\n",
    "regr_4.fit(Xtrain2, ytrain2)"
   ]
  },
  {
   "cell_type": "code",
   "execution_count": 82,
   "id": "romantic-clone",
   "metadata": {},
   "outputs": [
    {
     "name": "stdout",
     "output_type": "stream",
     "text": [
      "Training performance of Random Forest on the new features: 0.9824342420283937\n",
      "Testing performance of Random Forest on the new features: 0.9044204212789222\n"
     ]
    }
   ],
   "source": [
    "y_pred4 = regr_4.predict(Xtest2)\n",
    "mse4 = mean_squared_error(ytest2,y_pred4)\n",
    "rmse4 = np.sqrt(mse4)\n",
    "print(\"Training performance of Random Forest on the new features:\",regr_4.score(Xtrain2, ytrain2))\n",
    "print(\"Testing performance of Random Forest on the new features:\",regr_4.score(Xtest2, ytest2))"
   ]
  },
  {
   "cell_type": "code",
   "execution_count": 76,
   "id": "peripheral-travel",
   "metadata": {},
   "outputs": [
    {
     "data": {
      "text/plain": [
       "array([12.07237933, 12.04112939, 11.73470372, 11.9911547 , 11.88574989,\n",
       "       11.95114625, 12.29321791, 12.05533494, 12.36961401, 11.64121823,\n",
       "       12.16958639, 12.6745845 , 11.63887604, 11.56649772, 11.83426075,\n",
       "       11.84827007, 12.02661904, 11.85029962, 12.19114658, 11.9564824 ,\n",
       "       12.94650354, 12.42464302, 12.10678202, 11.75842136, 11.88138861,\n",
       "       12.00307886, 11.81865615, 12.14154923, 12.02382975, 11.89820379,\n",
       "       11.67544215, 11.75440467, 11.62430261, 11.59249319, 11.87807451,\n",
       "       11.86780912, 11.64131969, 11.95856888, 12.46559948, 11.85047675,\n",
       "       12.41566254, 11.78657162, 11.69919497, 12.17300962, 12.54924221,\n",
       "       12.1909106 , 11.63924364, 12.77554807, 12.26764348, 12.41532969,\n",
       "       12.03555383, 12.05263139, 11.69029723, 12.35458325, 12.1667416 ,\n",
       "       11.48850868, 11.70205547, 11.90941603, 11.55299015, 11.48517196,\n",
       "       12.08431473, 11.83518502, 12.55953069, 12.73643749, 12.2107015 ,\n",
       "       12.33271014, 12.17961241, 11.73752237, 11.82673926, 11.65117533,\n",
       "       11.41454749, 12.44770945, 11.79430094, 11.86587123, 12.0579268 ,\n",
       "       11.68707836, 12.16504319, 12.68872906, 11.73090712, 11.4207397 ,\n",
       "       12.63773136, 11.82031075, 11.9272299 , 12.4186024 , 11.86338014,\n",
       "       11.93508169, 12.16859548, 11.44291698, 11.9250639 , 11.69884009,\n",
       "       11.54333406, 12.09993637, 11.98699108, 11.9591771 , 12.55310859,\n",
       "       11.69963564, 12.01153834, 11.95008379, 11.84448736, 12.16156641,\n",
       "       12.54059876, 11.74481249, 11.12280559, 12.17716311, 12.85953822,\n",
       "       11.733979  , 12.2246532 , 12.01406838, 12.60778453, 12.03677019,\n",
       "       12.1673626 , 11.97548828, 11.84282282, 12.47184356, 11.78889331,\n",
       "       11.87845605, 11.90325534, 11.8015934 , 12.50452206, 11.99572805,\n",
       "       12.38690396, 12.46986518, 12.6440654 , 12.24779627, 11.8735907 ,\n",
       "       11.84909657, 12.1786102 , 11.69878195, 12.00778621, 11.76969025,\n",
       "       12.02919884, 12.37145683, 12.15663777, 11.41499123, 11.94770439,\n",
       "       12.65035929, 11.8827925 , 11.72015675, 12.80667666, 11.52125183,\n",
       "       11.37310444, 12.13524615, 11.53061724, 12.17914199, 11.5252752 ,\n",
       "       11.99802304, 11.74944154, 11.84962681, 12.01104324, 12.73664286,\n",
       "       12.24653205, 12.6481716 , 11.97426459, 11.72703367, 11.34595346,\n",
       "       11.96841465, 12.47993148, 10.88689855, 11.66321358, 12.10203677,\n",
       "       12.36674971, 12.12994105, 12.10401024, 12.74767568, 12.23971039,\n",
       "       11.72418551, 12.17837245, 11.92182242, 12.12566704, 11.33182596,\n",
       "       12.53368154, 12.4254361 , 11.19657845, 12.58407467, 11.41730824,\n",
       "       12.79192637, 11.71946589, 12.06793136, 11.85367054, 12.21146773,\n",
       "       11.77978554, 12.2780972 , 12.32209401, 11.73417702, 12.05452213,\n",
       "       11.86174917, 11.72561074, 11.94030831, 11.49194576, 11.46659294,\n",
       "       11.71364924, 12.54903937, 12.4929491 , 11.63790893, 12.6273149 ,\n",
       "       12.60138654, 12.03655405, 12.29515961, 11.65072903, 12.14636323,\n",
       "       12.34806368, 12.40024501, 12.45275873, 11.40515252, 12.55582668,\n",
       "       11.52099978, 12.15840531, 11.9815631 , 11.76062981, 11.89681107,\n",
       "       12.16771896, 12.25583353, 11.87172448, 12.45671349, 12.2405065 ,\n",
       "       12.10801189, 12.76930941, 12.05728993, 11.70642993, 12.08807796,\n",
       "       12.28371691, 11.71245694, 11.60299331, 11.76180186, 11.80253625,\n",
       "       11.99573361, 11.82665407, 11.9278734 , 12.39804296, 11.75548174,\n",
       "       11.88784441, 11.68495512, 11.87718082, 11.78216988, 12.08868259,\n",
       "       11.66347466, 11.97052429, 11.88276924, 11.6868626 , 12.13671518,\n",
       "       11.67241045, 11.37491223, 12.75747715, 12.76406011, 11.89226031,\n",
       "       12.368807  , 11.77382349, 11.45186099, 11.40666161, 12.24204386,\n",
       "       11.30002774, 12.24933587, 11.95278483, 11.78815603, 12.07388267,\n",
       "       11.79675778, 12.25396843, 12.03186927, 12.17287847, 11.72866432,\n",
       "       11.62731156, 11.60139785, 12.8055681 , 11.63483821, 12.081029  ,\n",
       "       12.31895758, 11.63467152, 11.75060305, 12.08959956, 11.75155742,\n",
       "       11.83736968, 11.80248666, 12.09644361, 11.89658331, 12.4415517 ,\n",
       "       11.8910151 , 11.40884613, 12.24163596, 12.45603866, 11.49116068,\n",
       "       12.39282909, 11.64261527, 11.50297344, 12.07316191, 11.78747054,\n",
       "       11.59437899, 12.0882863 , 12.29979957, 12.16630353, 12.24974741,\n",
       "       11.70124813, 11.7193635 , 12.59457041, 12.02082645, 11.89084775,\n",
       "       12.10209082, 11.66665573, 11.93502631, 12.29308043, 12.0422076 ,\n",
       "       11.0527615 , 12.36763232, 11.73668289, 11.74595057, 11.68581406,\n",
       "       12.2758279 , 11.99327147, 11.61605459, 12.03989959, 12.56232303,\n",
       "       12.08809806, 12.29755739, 11.52997643, 12.15530126, 12.35204698,\n",
       "       12.08434163, 11.76118562, 12.80131557, 12.64313517, 12.91574167,\n",
       "       11.80428968, 11.47713695, 11.87538678, 11.70639348, 11.81827426,\n",
       "       12.54691096, 12.75991231, 12.15224685, 11.81713073, 12.65341278,\n",
       "       12.21125586, 12.52906351, 11.85427359, 11.90196324, 11.76605295,\n",
       "       12.19613993, 11.48341138, 11.73000324, 11.49869439, 11.8811805 ,\n",
       "       12.2952795 , 11.97741049, 11.79072829, 11.9929185 , 12.77010046,\n",
       "       12.1017719 , 12.38695302, 11.70357618, 11.97493684, 12.38654548,\n",
       "       12.57245327, 11.66612186, 11.6503886 , 12.34078886, 12.16459164,\n",
       "       12.03305699, 12.54582423, 12.95933928, 12.25237856, 11.32069891,\n",
       "       11.72172261, 11.79546802, 12.05555737, 12.23028833])"
      ]
     },
     "execution_count": 76,
     "metadata": {},
     "output_type": "execute_result"
    }
   ],
   "source": [
    "y_pred4 #predicted values of test data "
   ]
  },
  {
   "cell_type": "code",
   "execution_count": 74,
   "id": "bibliographic-austin",
   "metadata": {},
   "outputs": [
    {
     "data": {
      "text/plain": [
       "array([11.73991116, 11.94465757, 12.06876205, ..., 11.97711596,\n",
       "       11.64079392, 12.35209282])"
      ]
     },
     "execution_count": 74,
     "metadata": {},
     "output_type": "execute_result"
    }
   ],
   "source": [
    "y_pred3 = regr_2.predict(feats3)\n",
    "y_pred3"
   ]
  },
  {
   "cell_type": "code",
   "execution_count": 88,
   "id": "speaking-display",
   "metadata": {},
   "outputs": [
    {
     "data": {
      "text/plain": [
       "array([11.75144595, 11.91676278, 12.09052744, ..., 11.97963232,\n",
       "       11.62094851, 12.36874111])"
      ]
     },
     "execution_count": 88,
     "metadata": {},
     "output_type": "execute_result"
    }
   ],
   "source": [
    "y_pred_final = regr_4.predict(feats3)\n",
    "y_pred_final"
   ]
  },
  {
   "cell_type": "code",
   "execution_count": 89,
   "id": "honest-sociology",
   "metadata": {},
   "outputs": [],
   "source": [
    "Id_test = pd.read_csv('C:/Users/ykath/Downloads/test.csv')['Id']\n",
    "predicted_price = pd.Series(np.exp(y_pred_final))\n",
    "submission = pd.DataFrame({'Id': Id_test, 'SalePrice': predicted_price})\n",
    "submission.to_csv('submission.csv', index=False)"
   ]
  },
  {
   "cell_type": "code",
   "execution_count": 85,
   "id": "yellow-distribution",
   "metadata": {},
   "outputs": [
    {
     "data": {
      "text/html": [
       "<div>\n",
       "<style scoped>\n",
       "    .dataframe tbody tr th:only-of-type {\n",
       "        vertical-align: middle;\n",
       "    }\n",
       "\n",
       "    .dataframe tbody tr th {\n",
       "        vertical-align: top;\n",
       "    }\n",
       "\n",
       "    .dataframe thead th {\n",
       "        text-align: right;\n",
       "    }\n",
       "</style>\n",
       "<table border=\"1\" class=\"dataframe\">\n",
       "  <thead>\n",
       "    <tr style=\"text-align: right;\">\n",
       "      <th></th>\n",
       "      <th>Unnamed: 0</th>\n",
       "      <th>LotFrontage</th>\n",
       "      <th>LotArea</th>\n",
       "      <th>OverallQual</th>\n",
       "      <th>OverallCond</th>\n",
       "      <th>YearBuilt</th>\n",
       "      <th>YearRemodAdd</th>\n",
       "      <th>MasVnrArea</th>\n",
       "      <th>ExterQual</th>\n",
       "      <th>ExterCond</th>\n",
       "      <th>...</th>\n",
       "      <th>SaleType_ConLI</th>\n",
       "      <th>SaleType_ConLw</th>\n",
       "      <th>SaleType_New</th>\n",
       "      <th>SaleType_Oth</th>\n",
       "      <th>SaleType_WD</th>\n",
       "      <th>SaleCondition_AdjLand</th>\n",
       "      <th>SaleCondition_Alloca</th>\n",
       "      <th>SaleCondition_Family</th>\n",
       "      <th>SaleCondition_Normal</th>\n",
       "      <th>SaleCondition_Partial</th>\n",
       "    </tr>\n",
       "  </thead>\n",
       "  <tbody>\n",
       "    <tr>\n",
       "      <th>0</th>\n",
       "      <td>0</td>\n",
       "      <td>4.394449</td>\n",
       "      <td>9.360741</td>\n",
       "      <td>5</td>\n",
       "      <td>6</td>\n",
       "      <td>1961</td>\n",
       "      <td>1961</td>\n",
       "      <td>0.000000</td>\n",
       "      <td>3</td>\n",
       "      <td>3</td>\n",
       "      <td>...</td>\n",
       "      <td>0</td>\n",
       "      <td>0</td>\n",
       "      <td>0</td>\n",
       "      <td>0</td>\n",
       "      <td>1</td>\n",
       "      <td>0</td>\n",
       "      <td>0</td>\n",
       "      <td>0</td>\n",
       "      <td>1</td>\n",
       "      <td>0</td>\n",
       "    </tr>\n",
       "    <tr>\n",
       "      <th>1</th>\n",
       "      <td>1</td>\n",
       "      <td>4.406719</td>\n",
       "      <td>9.565775</td>\n",
       "      <td>6</td>\n",
       "      <td>6</td>\n",
       "      <td>1958</td>\n",
       "      <td>1958</td>\n",
       "      <td>4.691348</td>\n",
       "      <td>3</td>\n",
       "      <td>3</td>\n",
       "      <td>...</td>\n",
       "      <td>0</td>\n",
       "      <td>0</td>\n",
       "      <td>0</td>\n",
       "      <td>0</td>\n",
       "      <td>1</td>\n",
       "      <td>0</td>\n",
       "      <td>0</td>\n",
       "      <td>0</td>\n",
       "      <td>1</td>\n",
       "      <td>0</td>\n",
       "    </tr>\n",
       "    <tr>\n",
       "      <th>2</th>\n",
       "      <td>2</td>\n",
       "      <td>4.317488</td>\n",
       "      <td>9.534668</td>\n",
       "      <td>5</td>\n",
       "      <td>5</td>\n",
       "      <td>1997</td>\n",
       "      <td>1998</td>\n",
       "      <td>0.000000</td>\n",
       "      <td>3</td>\n",
       "      <td>3</td>\n",
       "      <td>...</td>\n",
       "      <td>0</td>\n",
       "      <td>0</td>\n",
       "      <td>0</td>\n",
       "      <td>0</td>\n",
       "      <td>1</td>\n",
       "      <td>0</td>\n",
       "      <td>0</td>\n",
       "      <td>0</td>\n",
       "      <td>1</td>\n",
       "      <td>0</td>\n",
       "    </tr>\n",
       "    <tr>\n",
       "      <th>3</th>\n",
       "      <td>3</td>\n",
       "      <td>4.369448</td>\n",
       "      <td>9.208238</td>\n",
       "      <td>6</td>\n",
       "      <td>6</td>\n",
       "      <td>1998</td>\n",
       "      <td>1998</td>\n",
       "      <td>3.044522</td>\n",
       "      <td>3</td>\n",
       "      <td>3</td>\n",
       "      <td>...</td>\n",
       "      <td>0</td>\n",
       "      <td>0</td>\n",
       "      <td>0</td>\n",
       "      <td>0</td>\n",
       "      <td>1</td>\n",
       "      <td>0</td>\n",
       "      <td>0</td>\n",
       "      <td>0</td>\n",
       "      <td>1</td>\n",
       "      <td>0</td>\n",
       "    </tr>\n",
       "    <tr>\n",
       "      <th>4</th>\n",
       "      <td>4</td>\n",
       "      <td>3.784190</td>\n",
       "      <td>8.518392</td>\n",
       "      <td>8</td>\n",
       "      <td>5</td>\n",
       "      <td>1992</td>\n",
       "      <td>1992</td>\n",
       "      <td>0.000000</td>\n",
       "      <td>4</td>\n",
       "      <td>3</td>\n",
       "      <td>...</td>\n",
       "      <td>0</td>\n",
       "      <td>0</td>\n",
       "      <td>0</td>\n",
       "      <td>0</td>\n",
       "      <td>1</td>\n",
       "      <td>0</td>\n",
       "      <td>0</td>\n",
       "      <td>0</td>\n",
       "      <td>1</td>\n",
       "      <td>0</td>\n",
       "    </tr>\n",
       "    <tr>\n",
       "      <th>...</th>\n",
       "      <td>...</td>\n",
       "      <td>...</td>\n",
       "      <td>...</td>\n",
       "      <td>...</td>\n",
       "      <td>...</td>\n",
       "      <td>...</td>\n",
       "      <td>...</td>\n",
       "      <td>...</td>\n",
       "      <td>...</td>\n",
       "      <td>...</td>\n",
       "      <td>...</td>\n",
       "      <td>...</td>\n",
       "      <td>...</td>\n",
       "      <td>...</td>\n",
       "      <td>...</td>\n",
       "      <td>...</td>\n",
       "      <td>...</td>\n",
       "      <td>...</td>\n",
       "      <td>...</td>\n",
       "      <td>...</td>\n",
       "      <td>...</td>\n",
       "    </tr>\n",
       "    <tr>\n",
       "      <th>1453</th>\n",
       "      <td>1454</td>\n",
       "      <td>3.091042</td>\n",
       "      <td>7.568896</td>\n",
       "      <td>4</td>\n",
       "      <td>7</td>\n",
       "      <td>1970</td>\n",
       "      <td>1970</td>\n",
       "      <td>0.000000</td>\n",
       "      <td>3</td>\n",
       "      <td>3</td>\n",
       "      <td>...</td>\n",
       "      <td>0</td>\n",
       "      <td>0</td>\n",
       "      <td>0</td>\n",
       "      <td>0</td>\n",
       "      <td>1</td>\n",
       "      <td>0</td>\n",
       "      <td>0</td>\n",
       "      <td>0</td>\n",
       "      <td>1</td>\n",
       "      <td>0</td>\n",
       "    </tr>\n",
       "    <tr>\n",
       "      <th>1454</th>\n",
       "      <td>1455</td>\n",
       "      <td>3.091042</td>\n",
       "      <td>7.546974</td>\n",
       "      <td>4</td>\n",
       "      <td>5</td>\n",
       "      <td>1970</td>\n",
       "      <td>1970</td>\n",
       "      <td>0.000000</td>\n",
       "      <td>3</td>\n",
       "      <td>3</td>\n",
       "      <td>...</td>\n",
       "      <td>0</td>\n",
       "      <td>0</td>\n",
       "      <td>0</td>\n",
       "      <td>0</td>\n",
       "      <td>1</td>\n",
       "      <td>0</td>\n",
       "      <td>0</td>\n",
       "      <td>0</td>\n",
       "      <td>0</td>\n",
       "      <td>0</td>\n",
       "    </tr>\n",
       "    <tr>\n",
       "      <th>1455</th>\n",
       "      <td>1456</td>\n",
       "      <td>5.081404</td>\n",
       "      <td>9.903538</td>\n",
       "      <td>5</td>\n",
       "      <td>7</td>\n",
       "      <td>1960</td>\n",
       "      <td>1996</td>\n",
       "      <td>0.000000</td>\n",
       "      <td>3</td>\n",
       "      <td>3</td>\n",
       "      <td>...</td>\n",
       "      <td>0</td>\n",
       "      <td>0</td>\n",
       "      <td>0</td>\n",
       "      <td>0</td>\n",
       "      <td>1</td>\n",
       "      <td>0</td>\n",
       "      <td>0</td>\n",
       "      <td>0</td>\n",
       "      <td>0</td>\n",
       "      <td>0</td>\n",
       "    </tr>\n",
       "    <tr>\n",
       "      <th>1456</th>\n",
       "      <td>1457</td>\n",
       "      <td>4.143135</td>\n",
       "      <td>9.253591</td>\n",
       "      <td>5</td>\n",
       "      <td>5</td>\n",
       "      <td>1992</td>\n",
       "      <td>1992</td>\n",
       "      <td>0.000000</td>\n",
       "      <td>3</td>\n",
       "      <td>3</td>\n",
       "      <td>...</td>\n",
       "      <td>0</td>\n",
       "      <td>0</td>\n",
       "      <td>0</td>\n",
       "      <td>0</td>\n",
       "      <td>1</td>\n",
       "      <td>0</td>\n",
       "      <td>0</td>\n",
       "      <td>0</td>\n",
       "      <td>1</td>\n",
       "      <td>0</td>\n",
       "    </tr>\n",
       "    <tr>\n",
       "      <th>1457</th>\n",
       "      <td>1458</td>\n",
       "      <td>4.317488</td>\n",
       "      <td>9.172431</td>\n",
       "      <td>7</td>\n",
       "      <td>5</td>\n",
       "      <td>1993</td>\n",
       "      <td>1994</td>\n",
       "      <td>4.553877</td>\n",
       "      <td>3</td>\n",
       "      <td>3</td>\n",
       "      <td>...</td>\n",
       "      <td>0</td>\n",
       "      <td>0</td>\n",
       "      <td>0</td>\n",
       "      <td>0</td>\n",
       "      <td>1</td>\n",
       "      <td>0</td>\n",
       "      <td>0</td>\n",
       "      <td>0</td>\n",
       "      <td>1</td>\n",
       "      <td>0</td>\n",
       "    </tr>\n",
       "  </tbody>\n",
       "</table>\n",
       "<p>1458 rows × 241 columns</p>\n",
       "</div>"
      ],
      "text/plain": [
       "      Unnamed: 0  LotFrontage   LotArea  OverallQual  OverallCond  YearBuilt  \\\n",
       "0              0     4.394449  9.360741            5            6       1961   \n",
       "1              1     4.406719  9.565775            6            6       1958   \n",
       "2              2     4.317488  9.534668            5            5       1997   \n",
       "3              3     4.369448  9.208238            6            6       1998   \n",
       "4              4     3.784190  8.518392            8            5       1992   \n",
       "...          ...          ...       ...          ...          ...        ...   \n",
       "1453        1454     3.091042  7.568896            4            7       1970   \n",
       "1454        1455     3.091042  7.546974            4            5       1970   \n",
       "1455        1456     5.081404  9.903538            5            7       1960   \n",
       "1456        1457     4.143135  9.253591            5            5       1992   \n",
       "1457        1458     4.317488  9.172431            7            5       1993   \n",
       "\n",
       "      YearRemodAdd  MasVnrArea  ExterQual  ExterCond  ...  SaleType_ConLI  \\\n",
       "0             1961    0.000000          3          3  ...               0   \n",
       "1             1958    4.691348          3          3  ...               0   \n",
       "2             1998    0.000000          3          3  ...               0   \n",
       "3             1998    3.044522          3          3  ...               0   \n",
       "4             1992    0.000000          4          3  ...               0   \n",
       "...            ...         ...        ...        ...  ...             ...   \n",
       "1453          1970    0.000000          3          3  ...               0   \n",
       "1454          1970    0.000000          3          3  ...               0   \n",
       "1455          1996    0.000000          3          3  ...               0   \n",
       "1456          1992    0.000000          3          3  ...               0   \n",
       "1457          1994    4.553877          3          3  ...               0   \n",
       "\n",
       "      SaleType_ConLw  SaleType_New  SaleType_Oth  SaleType_WD  \\\n",
       "0                  0             0             0            1   \n",
       "1                  0             0             0            1   \n",
       "2                  0             0             0            1   \n",
       "3                  0             0             0            1   \n",
       "4                  0             0             0            1   \n",
       "...              ...           ...           ...          ...   \n",
       "1453               0             0             0            1   \n",
       "1454               0             0             0            1   \n",
       "1455               0             0             0            1   \n",
       "1456               0             0             0            1   \n",
       "1457               0             0             0            1   \n",
       "\n",
       "      SaleCondition_AdjLand  SaleCondition_Alloca  SaleCondition_Family  \\\n",
       "0                         0                     0                     0   \n",
       "1                         0                     0                     0   \n",
       "2                         0                     0                     0   \n",
       "3                         0                     0                     0   \n",
       "4                         0                     0                     0   \n",
       "...                     ...                   ...                   ...   \n",
       "1453                      0                     0                     0   \n",
       "1454                      0                     0                     0   \n",
       "1455                      0                     0                     0   \n",
       "1456                      0                     0                     0   \n",
       "1457                      0                     0                     0   \n",
       "\n",
       "      SaleCondition_Normal  SaleCondition_Partial  \n",
       "0                        1                      0  \n",
       "1                        1                      0  \n",
       "2                        1                      0  \n",
       "3                        1                      0  \n",
       "4                        1                      0  \n",
       "...                    ...                    ...  \n",
       "1453                     1                      0  \n",
       "1454                     0                      0  \n",
       "1455                     0                      0  \n",
       "1456                     1                      0  \n",
       "1457                     1                      0  \n",
       "\n",
       "[1458 rows x 241 columns]"
      ]
     },
     "execution_count": 85,
     "metadata": {},
     "output_type": "execute_result"
    }
   ],
   "source": [
    "Id_test"
   ]
  },
  {
   "cell_type": "code",
   "execution_count": null,
   "id": "engaged-civilian",
   "metadata": {},
   "outputs": [],
   "source": []
  }
 ],
 "metadata": {
  "kernelspec": {
   "display_name": "Python 3",
   "language": "python",
   "name": "python3"
  },
  "language_info": {
   "codemirror_mode": {
    "name": "ipython",
    "version": 3
   },
   "file_extension": ".py",
   "mimetype": "text/x-python",
   "name": "python",
   "nbconvert_exporter": "python",
   "pygments_lexer": "ipython3",
   "version": "3.8.5"
  }
 },
 "nbformat": 4,
 "nbformat_minor": 5
}
